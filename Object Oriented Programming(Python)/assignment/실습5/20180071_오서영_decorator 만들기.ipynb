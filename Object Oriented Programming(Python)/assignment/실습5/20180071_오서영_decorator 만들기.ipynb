{
 "cells": [
  {
   "cell_type": "markdown",
   "id": "a92a4758",
   "metadata": {
    "toc": true
   },
   "source": [
    "<h1>Table of Contents<span class=\"tocSkip\"></span></h1>\n",
    "<div class=\"toc\"><ul class=\"toc-item\"></ul></div>"
   ]
  },
  {
   "cell_type": "code",
   "execution_count": 13,
   "id": "96761208",
   "metadata": {},
   "outputs": [
    {
     "name": "stdout",
     "output_type": "stream",
     "text": [
      "Initializing Verbose.\n",
      "Program start\n",
      "\n",
      "Begin my_function\n",
      "hello, Mickey!\n",
      "End my_function \n",
      "\n",
      "Begin my_function\n",
      "hello, Minnie!\n",
      "End my_function \n",
      "\n",
      "Begin my_function\n",
      "hello, Donald!\n",
      "End my_function \n",
      "\n"
     ]
    }
   ],
   "source": [
    "class verbose:\n",
    "\n",
    "    def __init__(self, f):\n",
    "\n",
    "        print(\"Initializing Verbose.\")\n",
    "\n",
    "        self.func = f\n",
    "\n",
    "    \n",
    "\n",
    "    def __call__(self, person):\n",
    "\n",
    "        print(\"Begin\", self.func.__name__)\n",
    "\n",
    "        self.func(person)\n",
    "\n",
    "        print(\"End\",self.func.__name__,\"\\n\")\n",
    "\n",
    "@verbose\n",
    "\n",
    "def my_function(person):\n",
    "\n",
    "    print(\"hello, {}!\".format(person))\n",
    "\n",
    "\n",
    "print(\"Program start\\n\")\n",
    "\n",
    "my_function(\"Mickey\")\n",
    "\n",
    "my_function(\"Minnie\")\n",
    "\n",
    "my_function(\"Donald\")"
   ]
  },
  {
   "cell_type": "code",
   "execution_count": null,
   "id": "88f23c82",
   "metadata": {},
   "outputs": [],
   "source": []
  }
 ],
 "metadata": {
  "kernelspec": {
   "display_name": "Python 3 (ipykernel)",
   "language": "python",
   "name": "python3"
  },
  "language_info": {
   "codemirror_mode": {
    "name": "ipython",
    "version": 3
   },
   "file_extension": ".py",
   "mimetype": "text/x-python",
   "name": "python",
   "nbconvert_exporter": "python",
   "pygments_lexer": "ipython3",
   "version": "3.8.8"
  },
  "toc": {
   "base_numbering": 1,
   "nav_menu": {},
   "number_sections": true,
   "sideBar": true,
   "skip_h1_title": false,
   "title_cell": "Table of Contents",
   "title_sidebar": "Contents",
   "toc_cell": true,
   "toc_position": {},
   "toc_section_display": true,
   "toc_window_display": true
  }
 },
 "nbformat": 4,
 "nbformat_minor": 5
}
