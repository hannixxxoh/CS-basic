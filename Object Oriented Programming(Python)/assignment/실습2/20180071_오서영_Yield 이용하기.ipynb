{
 "cells": [
  {
   "cell_type": "markdown",
   "id": "ecd76433",
   "metadata": {
    "toc": true
   },
   "source": [
    "<h1>Table of Contents<span class=\"tocSkip\"></span></h1>\n",
    "<div class=\"toc\"><ul class=\"toc-item\"></ul></div>"
   ]
  },
  {
   "cell_type": "code",
   "execution_count": 1,
   "id": "bb4fb213",
   "metadata": {},
   "outputs": [
    {
     "name": "stdout",
     "output_type": "stream",
     "text": [
      "Writing Fibonacci1.py\n"
     ]
    }
   ],
   "source": [
    "%%writefile Fibonacci1.py\n",
    "\n",
    "def Fibo_func(N):\n",
    "    a, b = 0, 1\n",
    "    i = 0\n",
    "    while i<=N:\n",
    "        yield a\n",
    "        a, b = b, a+b\n",
    "        i+=1"
   ]
  },
  {
   "cell_type": "code",
   "execution_count": 2,
   "id": "4f3e7033",
   "metadata": {},
   "outputs": [],
   "source": [
    "%run Fibonacci1.py"
   ]
  },
  {
   "cell_type": "code",
   "execution_count": 9,
   "id": "d44f753a",
   "metadata": {},
   "outputs": [],
   "source": [
    "import Fibonacci1\n",
    "fib = Fibonacci1.Fibo_func(10)"
   ]
  },
  {
   "cell_type": "code",
   "execution_count": 10,
   "id": "33427b96",
   "metadata": {},
   "outputs": [
    {
     "name": "stdout",
     "output_type": "stream",
     "text": [
      "0\n",
      "1\n",
      "1\n",
      "2\n",
      "3\n",
      "5\n",
      "8\n",
      "13\n",
      "21\n",
      "34\n",
      "55\n"
     ]
    }
   ],
   "source": [
    "for i in fib:\n",
    "    print(i)"
   ]
  },
  {
   "cell_type": "code",
   "execution_count": null,
   "id": "653c7b49",
   "metadata": {},
   "outputs": [],
   "source": []
  }
 ],
 "metadata": {
  "kernelspec": {
   "display_name": "Python 3 (ipykernel)",
   "language": "python",
   "name": "python3"
  },
  "language_info": {
   "codemirror_mode": {
    "name": "ipython",
    "version": 3
   },
   "file_extension": ".py",
   "mimetype": "text/x-python",
   "name": "python",
   "nbconvert_exporter": "python",
   "pygments_lexer": "ipython3",
   "version": "3.8.8"
  },
  "toc": {
   "base_numbering": 1,
   "nav_menu": {},
   "number_sections": true,
   "sideBar": true,
   "skip_h1_title": false,
   "title_cell": "Table of Contents",
   "title_sidebar": "Contents",
   "toc_cell": true,
   "toc_position": {},
   "toc_section_display": true,
   "toc_window_display": true
  }
 },
 "nbformat": 4,
 "nbformat_minor": 5
}
