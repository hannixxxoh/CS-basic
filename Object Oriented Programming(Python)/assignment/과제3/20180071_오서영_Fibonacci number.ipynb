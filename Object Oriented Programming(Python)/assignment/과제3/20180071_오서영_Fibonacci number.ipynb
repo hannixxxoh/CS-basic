{
 "cells": [
  {
   "cell_type": "markdown",
   "id": "7f910a8b",
   "metadata": {
    "toc": true
   },
   "source": [
    "<h1>Table of Contents<span class=\"tocSkip\"></span></h1>\n",
    "<div class=\"toc\"><ul class=\"toc-item\"></ul></div>"
   ]
  },
  {
   "cell_type": "code",
   "execution_count": 1,
   "id": "1461f5f8",
   "metadata": {},
   "outputs": [
    {
     "name": "stdout",
     "output_type": "stream",
     "text": [
      "Overwriting fibonacci.py\n"
     ]
    }
   ],
   "source": [
    "%%writefile fibonacci.py\n",
    "num = int(input(\"input: \"))\n",
    "lst = ['_' for i in range(num+1)]\n",
    "lst[0] = 0\n",
    "lst[1] = 1\n",
    "lst[2] = 1\n",
    "for i in range(3, num+1):\n",
    "                lst[i] = lst[i-1] + lst[i-2]\n",
    "print(lst[num])"
   ]
  },
  {
   "cell_type": "code",
   "execution_count": 2,
   "id": "942d9aca",
   "metadata": {},
   "outputs": [
    {
     "name": "stdout",
     "output_type": "stream",
     "text": [
      "input: 7\n",
      "13\n"
     ]
    }
   ],
   "source": [
    "%run fibonacci.py"
   ]
  },
  {
   "cell_type": "code",
   "execution_count": 3,
   "id": "225de007",
   "metadata": {},
   "outputs": [
    {
     "name": "stdout",
     "output_type": "stream",
     "text": [
      "Overwriting fibona.py\n"
     ]
    }
   ],
   "source": [
    "%%writefile fibona.py\n",
    "def fibo(num):\n",
    "    lst = ['_' for i in range(num+1)]\n",
    "    lst[0] = 0\n",
    "    lst[1] = 1\n",
    "    lst[2] = 1\n",
    "    for i in range(3, num+1):\n",
    "        lst[i] = lst[i-1] + lst[i-2]\n",
    "    print(lst[num])"
   ]
  },
  {
   "cell_type": "code",
   "execution_count": 4,
   "id": "2936656b",
   "metadata": {},
   "outputs": [
    {
     "name": "stdout",
     "output_type": "stream",
     "text": [
      "13\n"
     ]
    }
   ],
   "source": [
    "import fibona\n",
    "fibona.fibo(7)"
   ]
  },
  {
   "cell_type": "code",
   "execution_count": null,
   "id": "b75ddfed",
   "metadata": {},
   "outputs": [],
   "source": []
  }
 ],
 "metadata": {
  "kernelspec": {
   "display_name": "Python 3 (ipykernel)",
   "language": "python",
   "name": "python3"
  },
  "language_info": {
   "codemirror_mode": {
    "name": "ipython",
    "version": 3
   },
   "file_extension": ".py",
   "mimetype": "text/x-python",
   "name": "python",
   "nbconvert_exporter": "python",
   "pygments_lexer": "ipython3",
   "version": "3.8.8"
  },
  "toc": {
   "base_numbering": 1,
   "nav_menu": {},
   "number_sections": true,
   "sideBar": true,
   "skip_h1_title": false,
   "title_cell": "Table of Contents",
   "title_sidebar": "Contents",
   "toc_cell": true,
   "toc_position": {},
   "toc_section_display": true,
   "toc_window_display": true
  }
 },
 "nbformat": 4,
 "nbformat_minor": 5
}
