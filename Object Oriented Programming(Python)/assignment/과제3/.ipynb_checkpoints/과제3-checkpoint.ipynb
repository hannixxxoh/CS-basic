{
 "cells": [
  {
   "cell_type": "code",
   "execution_count": 1,
   "id": "7b15f316",
   "metadata": {},
   "outputs": [
    {
     "name": "stdout",
     "output_type": "stream",
     "text": [
      "Overwriting fibonacci.py\n"
     ]
    }
   ],
   "source": [
    "%%writefile fibonacci.py\n",
    "num = int(input(\"input: \"))\n",
    "lst = ['_' for i in range(num+1)]\n",
    "lst[0] = 0\n",
    "lst[1] = 1\n",
    "lst[2] = 1\n",
    "for i in range(3, num+1):\n",
    "                lst[i] = lst[i-1] + lst[i-2]\n",
    "print(lst[num])"
   ]
  },
  {
   "cell_type": "code",
   "execution_count": 2,
   "id": "f5f5f61c",
   "metadata": {},
   "outputs": [
    {
     "name": "stdout",
     "output_type": "stream",
     "text": [
      "input: 7\n",
      "13\n"
     ]
    }
   ],
   "source": [
    "%run fibonacci.py"
   ]
  },
  {
   "cell_type": "code",
   "execution_count": 3,
   "id": "3585c847",
   "metadata": {},
   "outputs": [
    {
     "name": "stdout",
     "output_type": "stream",
     "text": [
      "Overwriting fibona.py\n"
     ]
    }
   ],
   "source": [
    "%%writefile fibona.py\n",
    "def fibo(num):\n",
    "    lst = ['_' for i in range(num+1)]\n",
    "    lst[0] = 0\n",
    "    lst[1] = 1\n",
    "    lst[2] = 1\n",
    "    for i in range(3, num+1):\n",
    "        lst[i] = lst[i-1] + lst[i-2]\n",
    "    print(lst[num])"
   ]
  },
  {
   "cell_type": "code",
   "execution_count": 5,
   "id": "1f90f1b0",
   "metadata": {},
   "outputs": [
    {
     "name": "stdout",
     "output_type": "stream",
     "text": [
      "34\n"
     ]
    }
   ],
   "source": [
    "import fibona\n",
    "fibona.fibo(9)"
   ]
  },
  {
   "cell_type": "code",
   "execution_count": null,
   "id": "0d6d267f",
   "metadata": {},
   "outputs": [],
   "source": []
  }
 ],
 "metadata": {
  "kernelspec": {
   "display_name": "Python 3 (ipykernel)",
   "language": "python",
   "name": "python3"
  },
  "language_info": {
   "codemirror_mode": {
    "name": "ipython",
    "version": 3
   },
   "file_extension": ".py",
   "mimetype": "text/x-python",
   "name": "python",
   "nbconvert_exporter": "python",
   "pygments_lexer": "ipython3",
   "version": "3.9.7"
  }
 },
 "nbformat": 4,
 "nbformat_minor": 5
}
