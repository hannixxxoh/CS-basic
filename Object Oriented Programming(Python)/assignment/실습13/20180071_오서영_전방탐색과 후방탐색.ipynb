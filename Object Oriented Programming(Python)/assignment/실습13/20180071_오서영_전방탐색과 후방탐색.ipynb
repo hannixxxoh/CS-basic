{
 "cells": [
  {
   "cell_type": "markdown",
   "id": "c8daa208",
   "metadata": {
    "toc": true
   },
   "source": [
    "<h1>Table of Contents<span class=\"tocSkip\"></span></h1>\n",
    "<div class=\"toc\"><ul class=\"toc-item\"></ul></div>"
   ]
  },
  {
   "cell_type": "code",
   "execution_count": 1,
   "id": "623a0e09",
   "metadata": {},
   "outputs": [
    {
     "name": "stdout",
     "output_type": "stream",
     "text": [
      "Seo Maria's Homepage\n"
     ]
    }
   ],
   "source": [
    "# 실습1\n",
    "import re\n",
    "\n",
    "string = '''<HEAD>\n",
    "<TITLE>Seo Maria's Homepage</TITLE>\n",
    "</HEAD>'''\n",
    "pat = re.compile('(?<=\\<TITLE\\>).*(?=\\<\\/TITLE\\>)')\n",
    "result = pat.search(string)\n",
    "print(result.group())"
   ]
  },
  {
   "cell_type": "code",
   "execution_count": 2,
   "id": "efac2ab9",
   "metadata": {},
   "outputs": [
    {
     "name": "stdout",
     "output_type": "stream",
     "text": [
      "foo.bar, sendmail.cf, checksum.exe\n"
     ]
    }
   ],
   "source": [
    "# 실습 2\n",
    "import re\n",
    "\n",
    "string = '''foo.bar, autoexec.bat, sendmail.cf, checksum.exe'''\n",
    "result = re.findall('\\w+\\.(?!bat)\\w+', string)\n",
    "print(', '.join(result))"
   ]
  },
  {
   "cell_type": "code",
   "execution_count": 3,
   "id": "da29217b",
   "metadata": {},
   "outputs": [
    {
     "name": "stdout",
     "output_type": "stream",
     "text": [
      "foo.bar, sendmail.cf\n"
     ]
    }
   ],
   "source": [
    "# 실습 2\n",
    "\n",
    "import re\n",
    "\n",
    "string = '''foo.bar, autoexec.bat, sendmail.cf, checksum.exe'''\n",
    "result = re.findall('\\w+\\.(?!bat|exe)\\w+', string)\n",
    "print(', '.join(result))"
   ]
  },
  {
   "cell_type": "code",
   "execution_count": null,
   "id": "282aa0bc",
   "metadata": {},
   "outputs": [],
   "source": []
  }
 ],
 "metadata": {
  "kernelspec": {
   "display_name": "Python 3 (ipykernel)",
   "language": "python",
   "name": "python3"
  },
  "language_info": {
   "codemirror_mode": {
    "name": "ipython",
    "version": 3
   },
   "file_extension": ".py",
   "mimetype": "text/x-python",
   "name": "python",
   "nbconvert_exporter": "python",
   "pygments_lexer": "ipython3",
   "version": "3.9.12"
  },
  "toc": {
   "base_numbering": 1,
   "nav_menu": {},
   "number_sections": true,
   "sideBar": true,
   "skip_h1_title": false,
   "title_cell": "Table of Contents",
   "title_sidebar": "Contents",
   "toc_cell": true,
   "toc_position": {
    "height": "calc(100% - 180px)",
    "left": "10px",
    "top": "150px",
    "width": "232px"
   },
   "toc_section_display": true,
   "toc_window_display": true
  }
 },
 "nbformat": 4,
 "nbformat_minor": 5
}
