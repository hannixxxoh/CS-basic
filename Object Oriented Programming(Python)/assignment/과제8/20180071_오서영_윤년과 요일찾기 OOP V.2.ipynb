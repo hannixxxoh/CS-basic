{
 "cells": [
  {
   "cell_type": "markdown",
   "id": "5b04e52e",
   "metadata": {
    "toc": true
   },
   "source": [
    "<h1>Table of Contents<span class=\"tocSkip\"></span></h1>\n",
    "<div class=\"toc\"><ul class=\"toc-item\"></ul></div>"
   ]
  },
  {
   "cell_type": "code",
   "execution_count": 1,
   "id": "4b628861",
   "metadata": {},
   "outputs": [],
   "source": [
    "def input_date():\n",
    "    year = int(input(\"__년도를 입력하시오:\"))\n",
    "    month = int(input(\"__월을 입력하시오:\"))\n",
    "    day = int(input(\"__일을 입력하시오:\"))\n",
    "    return year, month, day"
   ]
  },
  {
   "cell_type": "code",
   "execution_count": 2,
   "id": "78fdd917",
   "metadata": {},
   "outputs": [],
   "source": [
    "def is_leap(year):\n",
    "    if year % 400 == 0:\n",
    "        return 1\n",
    "    elif year % 100 == 0:\n",
    "        return 0\n",
    "    elif year % 4 == 0:\n",
    "        return 1\n",
    "    else:\n",
    "        return 0"
   ]
  },
  {
   "cell_type": "code",
   "execution_count": 3,
   "id": "13ad8237",
   "metadata": {},
   "outputs": [],
   "source": [
    "from time import *\n",
    "\n",
    "\n",
    "def checkTime(func):\n",
    "    def new_func(*args, **kwargs):\n",
    "        start = time()\n",
    "        func(*args,**kwargs)\n",
    "        end = time()\n",
    "        print(\"실행시간은:\", end - start, end= \"\\n\\n\")\n",
    "\n",
    "    return new_func"
   ]
  },
  {
   "cell_type": "code",
   "execution_count": 4,
   "id": "d9310e56",
   "metadata": {},
   "outputs": [],
   "source": [
    "class CalDay:\n",
    "    @staticmethod\n",
    "    def calDay(year, month, day):\n",
    "        # year별 일수\n",
    "        totaldays= 0\n",
    "        for i in range(1, year):\n",
    "            if is_leap(i): \n",
    "                totaldays += 366\n",
    "            else:\n",
    "                totaldays += 365\n",
    "    \n",
    "        # month별 일수\n",
    "        calender = {0: 0, 1: 31, 2: 28, 3: 31, 4: 30, 5: 31, 6: 30,\n",
    "               7: 31, 8: 31, 9: 30, 10: 31, 11: 30, 12: 31}\n",
    "        leap_calender = {0: 0, 1: 31, 2: 29, 3: 31, 4: 30, 5: 31, 6: 30,\n",
    "               7: 31, 8: 31, 9: 30, 10: 31, 11: 30, 12: 31}\n",
    "\n",
    "        if is_leap(year):\n",
    "            for i in range(month):\n",
    "                totaldays += leap_calender[i]\n",
    "        else:\n",
    "            for i in range(month):\n",
    "                totaldays += calender[i]\n",
    "\n",
    "        # day수 추가\n",
    "        totaldays += day\n",
    "        return totaldays"
   ]
  },
  {
   "cell_type": "code",
   "execution_count": 5,
   "id": "b025aea2",
   "metadata": {},
   "outputs": [],
   "source": [
    "class DayName:\n",
    "    @staticmethod\n",
    "    def get_name(year, month, day):\n",
    "        if not (is_leap(year)) and month == 2 and day == 29:\n",
    "            return \"입력하신 날짜는 존재하지 않습니다.\"\n",
    "        \n",
    "        #일수 계산\n",
    "        totaldays = CalDay.calDay(year, month, day)\n",
    "        \n",
    "        # 요일 계산\n",
    "        count = totaldays % 7\n",
    "        count_calender = {0: '일요일', 1: \"월요일\", 2: \"화요일\", 3: \"수요일\",\n",
    "                          4: \"목요일\", 5: \"금요일\", 6: \"토요일\"}\n",
    "        \n",
    "        # return\n",
    "        if is_leap(year):\n",
    "            print(count_calender[count])\n",
    "            return f\"입력하신 {year}은 윤년입니다\"\n",
    "        else:\n",
    "            return count_calender[count]    "
   ]
  },
  {
   "cell_type": "code",
   "execution_count": 6,
   "id": "7375d707",
   "metadata": {},
   "outputs": [
    {
     "name": "stdout",
     "output_type": "stream",
     "text": [
      "__년도를 입력하시오:2022\n",
      "__월을 입력하시오:04\n",
      "__일을 입력하시오:24\n",
      "일요일\n"
     ]
    }
   ],
   "source": [
    "if __name__ ==\"__main__\":\n",
    "    year, month, day = input_date()\n",
    "    print(DayName.get_name(year, month, day)) "
   ]
  },
  {
   "cell_type": "code",
   "execution_count": 7,
   "id": "7900a458",
   "metadata": {},
   "outputs": [],
   "source": [
    "class MerryChristmas():\n",
    "    month = 12\n",
    "    day = 25\n",
    "    \n",
    "    def __init__(self, year, dday):\n",
    "        self.year = year\n",
    "        self._dday = dday\n",
    "    \n",
    "    @checkTime\n",
    "    def christmasday(self):\n",
    "        totaldays = 0\n",
    "        christmas_calender = {x:0 for x in range(7)}\n",
    "\n",
    "        for year in range(1, self.year+1):\n",
    "            totaldays = CalDay.calDay(year, MerryChristmas.month, MerryChristmas.day)\n",
    "            count = totaldays % 7\n",
    "            christmas_calender[count] += 1\n",
    "        \n",
    "        count_calender = {0: '일요일', 1: \"월요일\", 2: \"화요일\", 3: \"수요일\",\n",
    "                          4: \"목요일\", 5: \"금요일\", 6: \"토요일\"}\n",
    "        print(\"{}년까지 크리스마스는\".format(self.year))\n",
    "        for i in range(7):\n",
    "            print(\"{} {}번\".format(count_calender[i], christmas_calender[i]), end = \" \")\n",
    "        print(\"\")\n",
    "    \n",
    "    @staticmethod\n",
    "    def caldday_stt(yr, mn, dy, dday): # 재사용 위해 static method화\n",
    "\n",
    "        calender = {0: 0, 1: 31, 2: 28, 3: 31, 4: 30, 5: 31, 6: 30,\n",
    "               7: 31, 8: 31, 9: 30, 10: 31, 11: 30, 12: 31}\n",
    "        leap_calender = {0: 0, 1: 31, 2: 29, 3: 31, 4: 30, 5: 31, 6: 30,\n",
    "               7: 31, 8: 31, 9: 30, 10: 31, 11: 30, 12: 31}\n",
    "        \n",
    "        \n",
    "        if is_leap(yr):\n",
    "            days = 0\n",
    "            while(1):\n",
    "                if days == dday: # 디데이가 된 경우\n",
    "                    break\n",
    "                dy -= 1\n",
    "                days += 1\n",
    "                if dy == 0: # 매달 1일\n",
    "                    if mn == 1: # 그중에서도 1월 1일\n",
    "                        dy = leap_calender[12]\n",
    "                        mn = 12\n",
    "                        yr -= 1\n",
    "                    else: # 2월 1일, 3월 1일, ...\n",
    "                        dy = leap_calender[mn-1]\n",
    "                        mn -= 1\n",
    "        else:\n",
    "            days = 0\n",
    "            while(1):\n",
    "                if days == dday: # 디데이가 된 경우\n",
    "                    break\n",
    "                dy -= 1\n",
    "                days += 1\n",
    "                if dy == 0: # 매달 1일\n",
    "                    if mn == 1: # 그중에서도 1월 1일\n",
    "                        dy = calender[12]\n",
    "                        mn = 12\n",
    "                        yr -= 1\n",
    "                    else: # 2월 1일, 3월 1일, ...\n",
    "                        dy = calender[mn-1]\n",
    "                        mn -= 1\n",
    "                    \n",
    "        return yr, mn, dy\n",
    "        \n",
    "    def caldday_ins(self):\n",
    "        yr, mn, dy = MerryChristmas.caldday_stt(self.year, MerryChristmas.month, MerryChristmas.day, self._dday)\n",
    "        print(f\"{self.year}년 12월 25일로부터 D-{self._dday}은(는) {yr}년 {mn}월 {dy}일 입니다.\\n\")\n",
    "    \n",
    "    def get_dday(self):\n",
    "        return self._dday\n",
    "    \n",
    "    def set_dday(self, value):\n",
    "        if value >= 0:\n",
    "            print(f\"D-Day를 +{value} 했습니다.\\n\")\n",
    "        else:\n",
    "            print(f\"D-Day를 {value} 했습니다.\\n\")\n",
    "        self._dday += value\n",
    "        \n",
    "    dday = property(get_dday, set_dday)\n",
    "    \n",
    "    @classmethod\n",
    "    def todday(cls, dday):\n",
    "        year = localtime(time()).tm_year\n",
    "        month = localtime(time()).tm_mon\n",
    "        day = localtime(time()).tm_mday\n",
    "        yr, mn, dy = MerryChristmas.caldday_stt(year, month, day, dday)\n",
    "        print(f\"오늘로부터 D-{dday}은(는) {yr}년 {mn}월 {dy}일 입니다.\\n\")"
   ]
  },
  {
   "cell_type": "code",
   "execution_count": 8,
   "id": "9ccf2389",
   "metadata": {},
   "outputs": [
    {
     "name": "stdout",
     "output_type": "stream",
     "text": [
      "2022년까지 크리스마스는\n",
      "일요일 294번 월요일 282번 화요일 294번 수요일 288번 목요일 288번 금요일 293번 토요일 283번 \n",
      "실행시간은: 0.5784749984741211\n",
      "\n",
      "2022년 12월 25일로부터 D-600은(는) 2021년 5월 4일 입니다.\n",
      "\n",
      "D-Day를 +30 했습니다.\n",
      "\n",
      "2022년 12월 25일로부터 D-630은(는) 2021년 4월 4일 입니다.\n",
      "\n",
      "D-Day를 -30 했습니다.\n",
      "\n",
      "2022년 12월 25일로부터 D-600은(는) 2021년 5월 4일 입니다.\n",
      "\n",
      "오늘로부터 D-90은(는) 2022년 1월 24일 입니다.\n",
      "\n"
     ]
    }
   ],
   "source": [
    "if __name__ == \"__main__\":\n",
    "    target = MerryChristmas(2022,600)\n",
    "    target.christmasday()\n",
    "\n",
    "    target.caldday_ins()\n",
    "    target.dday = 30\n",
    "    target.caldday_ins()\n",
    "    target.dday = -30\n",
    "    target.caldday_ins()\n",
    "    \n",
    "    MerryChristmas.todday(90)"
   ]
  },
  {
   "cell_type": "code",
   "execution_count": null,
   "id": "8b886fb9",
   "metadata": {},
   "outputs": [],
   "source": []
  }
 ],
 "metadata": {
  "kernelspec": {
   "display_name": "Python 3 (ipykernel)",
   "language": "python",
   "name": "python3"
  },
  "language_info": {
   "codemirror_mode": {
    "name": "ipython",
    "version": 3
   },
   "file_extension": ".py",
   "mimetype": "text/x-python",
   "name": "python",
   "nbconvert_exporter": "python",
   "pygments_lexer": "ipython3",
   "version": "3.9.7"
  },
  "toc": {
   "base_numbering": 1,
   "nav_menu": {},
   "number_sections": true,
   "sideBar": true,
   "skip_h1_title": false,
   "title_cell": "Table of Contents",
   "title_sidebar": "Contents",
   "toc_cell": true,
   "toc_position": {},
   "toc_section_display": true,
   "toc_window_display": false
  }
 },
 "nbformat": 4,
 "nbformat_minor": 5
}
