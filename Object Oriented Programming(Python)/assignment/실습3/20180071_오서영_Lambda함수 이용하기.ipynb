{
 "cells": [
  {
   "cell_type": "code",
   "execution_count": 21,
   "id": "e659e35f",
   "metadata": {},
   "outputs": [
    {
     "name": "stdout",
     "output_type": "stream",
     "text": [
      "1 0 3 1 0 5 1 5 1 5 1 3 0 0 5 3 4 0 0 4 1 5 0 0 5 5 "
     ]
    }
   ],
   "source": [
    "# print만 활용하여 구현하는 경우\n",
    "\n",
    "import random\n",
    "for rand in iter(lambda : random.randint(0, 5), 2):\n",
    "    print(rand, end=' ')"
   ]
  },
  {
   "cell_type": "code",
   "execution_count": 19,
   "id": "1fb709c0",
   "metadata": {},
   "outputs": [
    {
     "name": "stdout",
     "output_type": "stream",
     "text": [
      "4 3 4 1 3 5 4 "
     ]
    }
   ],
   "source": [
    "# next를 활용하여 구현하는 경우\n",
    "\n",
    "rand = iter(lambda : random.randint(0, 5), 2)\n",
    "while 1:\n",
    "    try:\n",
    "        print(next(rand), end=' ') \n",
    "    except StopIteration:\n",
    "        break"
   ]
  }
 ],
 "metadata": {
  "kernelspec": {
   "display_name": "insight001",
   "language": "python",
   "name": "insight001"
  },
  "language_info": {
   "codemirror_mode": {
    "name": "ipython",
    "version": 3
   },
   "file_extension": ".py",
   "mimetype": "text/x-python",
   "name": "python",
   "nbconvert_exporter": "python",
   "pygments_lexer": "ipython3",
   "version": "3.8.8"
  },
  "toc": {
   "base_numbering": 1,
   "nav_menu": {},
   "number_sections": true,
   "sideBar": true,
   "skip_h1_title": false,
   "title_cell": "Table of Contents",
   "title_sidebar": "Contents",
   "toc_cell": true,
   "toc_position": {},
   "toc_section_display": true,
   "toc_window_display": true
  }
 },
 "nbformat": 4,
 "nbformat_minor": 5
}
