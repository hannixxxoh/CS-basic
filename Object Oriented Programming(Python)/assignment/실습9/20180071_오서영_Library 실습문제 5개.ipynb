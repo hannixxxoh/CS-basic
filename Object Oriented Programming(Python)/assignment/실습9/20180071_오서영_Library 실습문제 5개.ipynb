{
 "cells": [
  {
   "cell_type": "code",
   "execution_count": 1,
   "id": "350d9dda",
   "metadata": {},
   "outputs": [
    {
     "name": "stdout",
     "output_type": "stream",
     "text": [
      "Overwriting W_2.py\n"
     ]
    }
   ],
   "source": [
    "%%writefile W_2.py\n",
    "#실습1\n",
    "import sys\n",
    "import datetime\n",
    "yr=int(sys.argv[1])\n",
    "mn=int(sys.argv[2])\n",
    "dy=int(sys.argv[3])\n",
    "date = datetime.date(yr, mn, dy).weekday()\n",
    "week=['월요일', '화요일', '수요일', '목요일', '금요일', '토요일', '일요일']\n",
    "print(week[date])"
   ]
  },
  {
   "cell_type": "code",
   "execution_count": 2,
   "id": "8e275f8a",
   "metadata": {},
   "outputs": [
    {
     "name": "stdout",
     "output_type": "stream",
     "text": [
      "화요일\n"
     ]
    }
   ],
   "source": [
    "%run W_2.py 2019 10 1"
   ]
  },
  {
   "cell_type": "code",
   "execution_count": 3,
   "id": "ced6b3d1",
   "metadata": {},
   "outputs": [
    {
     "name": "stdout",
     "output_type": "stream",
     "text": [
      "월요일\n"
     ]
    }
   ],
   "source": [
    "%run W_2.py 2019 10 14"
   ]
  },
  {
   "cell_type": "code",
   "execution_count": 4,
   "id": "aa62a746",
   "metadata": {},
   "outputs": [
    {
     "data": {
      "text/plain": [
       "'nt'"
      ]
     },
     "execution_count": 4,
     "metadata": {},
     "output_type": "execute_result"
    }
   ],
   "source": [
    "#실습 2-1\n",
    "\n",
    "import os\n",
    "os.name"
   ]
  },
  {
   "cell_type": "code",
   "execution_count": 5,
   "id": "6eeec93c",
   "metadata": {},
   "outputs": [
    {
     "name": "stdout",
     "output_type": "stream",
     "text": [
      "Overwriting leapArg.py\n"
     ]
    }
   ],
   "source": [
    "%%writefile leapArg.py\n",
    "# 실습 2-2\n",
    "\n",
    "import sys\n",
    "def is_leap(year):\n",
    "    if year % 400 == 0:\n",
    "        return 1\n",
    "    elif year % 100 == 0:\n",
    "        return 0\n",
    "    elif year % 4 == 0:\n",
    "        return 1\n",
    "    else:\n",
    "        return 0\n",
    "    \n",
    "def get_day_name(year, month, day):\n",
    "    # 에러 메시지\n",
    "    if not (is_leap(year)) and month == 2 and day == 29:\n",
    "        return 0\n",
    "    \n",
    "    # 연도별 일수\n",
    "    totaldays= 0\n",
    "    for i in range(1, year):\n",
    "        if is_leap(i): \n",
    "            totaldays += 366\n",
    "        else:\n",
    "            totaldays += 365\n",
    "    \n",
    "    #월별 일수\n",
    "    calender = {0: 0, 1: 31, 2: 28, 3: 31, 4: 30, 5: 31, 6: 30,\n",
    "               7: 31, 8: 31, 9: 30, 10: 31, 11: 30, 12: 31}\n",
    "    leap_calender = {0: 0, 1: 31, 2: 29, 3: 31, 4: 30, 5: 31, 6: 30,\n",
    "               7: 31, 8: 31, 9: 30, 10: 31, 11: 30, 12: 31}\n",
    "\n",
    "    if is_leap(year):\n",
    "        for i in range(month):\n",
    "            totaldays += leap_calender[i]\n",
    "    else:\n",
    "        for i in range(month):\n",
    "            totaldays += calender[i]\n",
    "\n",
    "    # 일수 추가\n",
    "    totaldays += day\n",
    "    \n",
    "    count = totaldays % 7\n",
    "    count_calender = {0: '일요일', 1: \"월요일\", 2: \"화요일\", 3: \"수요일\", 4: \"목요일\", 5: \"금요일\", 6: \"토요일\"}\n",
    "    return count_calender[count]\n",
    "\n",
    "if __name__ == \"__main__\":\n",
    "    year = int(sys.argv[1])\n",
    "    month = int(sys.argv[2])\n",
    "    day = int(sys.argv[3])\n",
    "\n",
    "    day_name = get_day_name(year,month,day)\n",
    "    if day_name == False:\n",
    "        print(\"입력하신 날짜는 존재하지 않습니다.\")\n",
    "    else:\n",
    "        print(day_name)\n",
    "        if is_leap(year) == True:\n",
    "            print(\"입력하신 %s은 윤년입니다\" % year)"
   ]
  },
  {
   "cell_type": "code",
   "execution_count": 6,
   "id": "07e29c1e",
   "metadata": {},
   "outputs": [
    {
     "name": "stdout",
     "output_type": "stream",
     "text": [
      "일요일\n"
     ]
    }
   ],
   "source": [
    "%run leapArg.py 2018 4 15"
   ]
  },
  {
   "cell_type": "code",
   "execution_count": 7,
   "id": "7b0af8b2",
   "metadata": {},
   "outputs": [
    {
     "name": "stdout",
     "output_type": "stream",
     "text": [
      "-1.6351885780427125e-13\n",
      "2.939601270583009e+48\n",
      "1.0000000000000002\n"
     ]
    }
   ],
   "source": [
    "#실습 2-3\n",
    "from math import *\n",
    "\n",
    "print((2000/log(20))*sin(2*pi))\n",
    "print(pow(3, 100)*log(300))\n",
    "print(sin(pi/4) * sqrt(2))"
   ]
  },
  {
   "cell_type": "code",
   "execution_count": 10,
   "id": "3cb5d91d",
   "metadata": {},
   "outputs": [
    {
     "name": "stdout",
     "output_type": "stream",
     "text": [
      "Overwriting game.py\n"
     ]
    }
   ],
   "source": [
    "%%writefile game.py\n",
    "#실습 2-4\n",
    "import random\n",
    "user = input(\"가위, 바위, 보 중 하나를 선택하시오: \")\n",
    "game = ['가위', '바위', '보']\n",
    "compt = game[random.randint(0, 2)]\n",
    "win = 0\n",
    "\n",
    "if user == compt:\n",
    "    win = 2\n",
    "elif user == '가위' and compt == '보':\n",
    "    win = 1\n",
    "elif user == '바위' and compt == '가위':\n",
    "    win = 1\n",
    "elif user == '보' and compt == '바위':\n",
    "    win = 1\n",
    "\n",
    "print(\"플레이어:\",user)\n",
    "print(\"컴퓨터:\",compt)\n",
    "if win == 2:\n",
    "    print(\"비겼습니다.\")\n",
    "elif win == 1:\n",
    "    print(\"당신이 이겼습니다.\")\n",
    "else:\n",
    "    print(\"컴퓨터가 이겼습니다.\")"
   ]
  },
  {
   "cell_type": "code",
   "execution_count": 11,
   "id": "2d301b56",
   "metadata": {},
   "outputs": [
    {
     "name": "stdout",
     "output_type": "stream",
     "text": [
      "가위, 바위, 보 중 하나를 선택하시오: 가위\n",
      "플레이어: 가위\n",
      "컴퓨터: 바위\n",
      "컴퓨터가 이겼습니다.\n"
     ]
    }
   ],
   "source": [
    "%run game.py"
   ]
  },
  {
   "cell_type": "code",
   "execution_count": 12,
   "id": "dc5c1e6f",
   "metadata": {},
   "outputs": [
    {
     "name": "stdout",
     "output_type": "stream",
     "text": [
      "가위, 바위, 보 중 하나를 선택하시오: 바위\n",
      "플레이어: 바위\n",
      "컴퓨터: 가위\n",
      "당신이 이겼습니다.\n"
     ]
    }
   ],
   "source": [
    "%run game.py"
   ]
  },
  {
   "cell_type": "code",
   "execution_count": 13,
   "id": "aa2505c9",
   "metadata": {},
   "outputs": [
    {
     "name": "stdout",
     "output_type": "stream",
     "text": [
      "가위, 바위, 보 중 하나를 선택하시오: 보\n",
      "플레이어: 보\n",
      "컴퓨터: 보\n",
      "비겼습니다.\n"
     ]
    }
   ],
   "source": [
    "%run game.py"
   ]
  },
  {
   "cell_type": "code",
   "execution_count": null,
   "id": "a9266ec0",
   "metadata": {},
   "outputs": [],
   "source": []
  }
 ],
 "metadata": {
  "kernelspec": {
   "display_name": "Python 3 (ipykernel)",
   "language": "python",
   "name": "python3"
  },
  "language_info": {
   "codemirror_mode": {
    "name": "ipython",
    "version": 3
   },
   "file_extension": ".py",
   "mimetype": "text/x-python",
   "name": "python",
   "nbconvert_exporter": "python",
   "pygments_lexer": "ipython3",
   "version": "3.9.7"
  },
  "toc": {
   "base_numbering": 1,
   "nav_menu": {},
   "number_sections": true,
   "sideBar": true,
   "skip_h1_title": false,
   "title_cell": "Table of Contents",
   "title_sidebar": "Contents",
   "toc_cell": false,
   "toc_position": {},
   "toc_section_display": true,
   "toc_window_display": false
  }
 },
 "nbformat": 4,
 "nbformat_minor": 5
}
