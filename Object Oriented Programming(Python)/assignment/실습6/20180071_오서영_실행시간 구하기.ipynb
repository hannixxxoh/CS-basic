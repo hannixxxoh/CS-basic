{
 "cells": [
  {
   "cell_type": "markdown",
   "id": "2908ee1c",
   "metadata": {
    "toc": true
   },
   "source": [
    "<h1>Table of Contents<span class=\"tocSkip\"></span></h1>\n",
    "<div class=\"toc\"><ul class=\"toc-item\"></ul></div>"
   ]
  },
  {
   "cell_type": "code",
   "execution_count": 1,
   "id": "74e4ba4c",
   "metadata": {},
   "outputs": [
    {
     "name": "stdout",
     "output_type": "stream",
     "text": [
      "[2022-06-04 19:55]\n",
      "1 2 3 4 5 6 7 8 9 10 11 12 13 14 15 16 17 18 19 20 21 22 23 24 25 26 27 28 29 30 31 32 33 34 35 36 37 38 39 40 41 42 43 44 45 46 47 48 49 50 51 52 53 54 55 56 57 58 59 60 61 62 63 64 65 66 67 68 69 70 71 72 73 74 75 76 77 78 79 80 81 82 83 84 85 86 87 88 89 90 91 92 93 94 95 96 97 98 99 100 aFunc실행시간은: 0.00299072265625\n",
      "---------------------------\n",
      "[2022-06-04 19:55]\n",
      "101 102 103 104 105 106 107 108 109 110 111 112 113 114 115 116 117 118 119 120 121 122 123 124 125 126 127 128 129 130 131 132 133 134 135 136 137 138 139 140 141 142 143 144 145 146 147 148 149 150 151 152 153 154 155 156 157 158 159 160 161 162 163 164 165 166 167 168 169 170 171 172 173 174 175 176 177 178 179 180 181 182 183 184 185 186 187 188 189 190 191 192 193 194 195 196 197 198 199 200 201 202 bFunc실행시간은: 0.0019941329956054688\n"
     ]
    }
   ],
   "source": [
    "import time \n",
    "from time import localtime, strftime\n",
    "\n",
    "def checkTime(func):\n",
    "\n",
    "    def new_func(*args, **kwargs):\n",
    "\n",
    "        str_time = strftime(\"[%Y-%m-%d %H:%M]\", localtime())\n",
    "\n",
    "        print(str_time)\n",
    "\n",
    "\n",
    "        start = time.time()\n",
    "\n",
    "        func(*args,**kwargs)\n",
    "\n",
    "        end = time.time()\n",
    "\n",
    "        print(\"실행시간은:\", end - start)\n",
    "\n",
    "    return new_func\n",
    "\n",
    "\n",
    "@checkTime\n",
    "\n",
    "def aFunc():\n",
    "\n",
    "    for i in range(1,101):\n",
    "\n",
    "        print(i,end=' ')\n",
    "\n",
    "\n",
    "@checkTime\n",
    "\n",
    "def bFunc(start, end):\n",
    "\n",
    "    for i in range(start,end+1):\n",
    "\n",
    "        print(i,end=' ')\n",
    "\n",
    "        \n",
    "\n",
    "aFunc()\n",
    "print(\"---------------------------\")\n",
    "bFunc(101,202)"
   ]
  },
  {
   "cell_type": "code",
   "execution_count": null,
   "id": "2fa39ee2",
   "metadata": {},
   "outputs": [],
   "source": []
  }
 ],
 "metadata": {
  "kernelspec": {
   "display_name": "Python 3 (ipykernel)",
   "language": "python",
   "name": "python3"
  },
  "language_info": {
   "codemirror_mode": {
    "name": "ipython",
    "version": 3
   },
   "file_extension": ".py",
   "mimetype": "text/x-python",
   "name": "python",
   "nbconvert_exporter": "python",
   "pygments_lexer": "ipython3",
   "version": "3.9.12"
  },
  "toc": {
   "base_numbering": 1,
   "nav_menu": {},
   "number_sections": true,
   "sideBar": true,
   "skip_h1_title": false,
   "title_cell": "Table of Contents",
   "title_sidebar": "Contents",
   "toc_cell": true,
   "toc_position": {
    "height": "calc(100% - 180px)",
    "left": "10px",
    "top": "150px",
    "width": "181.771px"
   },
   "toc_section_display": true,
   "toc_window_display": true
  }
 },
 "nbformat": 4,
 "nbformat_minor": 5
}
