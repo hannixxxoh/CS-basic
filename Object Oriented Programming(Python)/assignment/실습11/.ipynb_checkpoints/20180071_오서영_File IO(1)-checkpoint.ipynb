{
 "cells": [
  {
   "cell_type": "markdown",
   "id": "07ad0506",
   "metadata": {
    "toc": true
   },
   "source": [
    "<h1>Table of Contents<span class=\"tocSkip\"></span></h1>\n",
    "<div class=\"toc\"><ul class=\"toc-item\"></ul></div>"
   ]
  },
  {
   "cell_type": "code",
   "execution_count": 1,
   "id": "10cd7f5c",
   "metadata": {},
   "outputs": [
    {
     "data": {
      "text/plain": [
       "{'2': ['Alice', 'Paul', 'David', 'Bob'],\n",
       " '4': ['Cindy', 'Stella', 'Bill'],\n",
       " '1': ['Henry', 'Jenny', 'Jessica', 'Erin', 'Tim'],\n",
       " '3': ['John', 'Joe', 'Tome']}"
      ]
     },
     "execution_count": 1,
     "metadata": {},
     "output_type": "execute_result"
    }
   ],
   "source": [
    "ban_std = '''2 Alice Paul David Bob\n",
    "4 Cindy Stella Bill\n",
    "1 Henry Jenny Jessica Erin Tim\n",
    "3 John Joe Tome\n",
    "'''\n",
    "f = open(\"ban_std.txt\", \"w\")\n",
    "f.write(ban_std)\n",
    "f.close()\n",
    "\n",
    "dct = {}\n",
    "f = open(\"ban_std.txt\", \"r\")\n",
    "lines = f.readlines()\n",
    "for line in lines:\n",
    "    key = line[0]\n",
    "    value = line[1:].strip().split()\n",
    "    dct[key] = value\n",
    "dct"
   ]
  },
  {
   "cell_type": "code",
   "execution_count": null,
   "id": "d5ec9c66",
   "metadata": {},
   "outputs": [],
   "source": []
  }
 ],
 "metadata": {
  "kernelspec": {
   "display_name": "insight001",
   "language": "python",
   "name": "insight001"
  },
  "language_info": {
   "codemirror_mode": {
    "name": "ipython",
    "version": 3
   },
   "file_extension": ".py",
   "mimetype": "text/x-python",
   "name": "python",
   "nbconvert_exporter": "python",
   "pygments_lexer": "ipython3",
   "version": "3.9.7"
  },
  "toc": {
   "base_numbering": 1,
   "nav_menu": {},
   "number_sections": true,
   "sideBar": true,
   "skip_h1_title": false,
   "title_cell": "Table of Contents",
   "title_sidebar": "Contents",
   "toc_cell": true,
   "toc_position": {
    "height": "calc(100% - 180px)",
    "left": "10px",
    "top": "150px",
    "width": "184.444px"
   },
   "toc_section_display": true,
   "toc_window_display": true
  }
 },
 "nbformat": 4,
 "nbformat_minor": 5
}
