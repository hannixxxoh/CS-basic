{
 "cells": [
  {
   "cell_type": "markdown",
   "id": "8e4a24d0",
   "metadata": {
    "toc": true
   },
   "source": [
    "<h1>Table of Contents<span class=\"tocSkip\"></span></h1>\n",
    "<div class=\"toc\"><ul class=\"toc-item\"></ul></div>"
   ]
  },
  {
   "cell_type": "code",
   "execution_count": 1,
   "id": "d943d23b",
   "metadata": {},
   "outputs": [],
   "source": [
    "import time \n",
    "from time import localtime, strftime\n",
    "import numpy as np\n",
    "\n",
    "def pure_python_version():\n",
    "    X = [x for x in range(1000000)]\n",
    "    Y = [x for x in range(1000000)]\n",
    "    start = time.time()\n",
    "    [X[i] + Y[i] for i in range(1000000)]\n",
    "    end = time.time()\n",
    "    return end-start\n",
    "\n",
    "def numpy_version():\n",
    "    X=np.array([x for x in range(1000000)])\n",
    "    Y=np.array([x for x in range(1000000)])\n",
    "    start = time.time()    \n",
    "    X+Y\n",
    "    end = time.time()\n",
    "    return end-start"
   ]
  },
  {
   "cell_type": "code",
   "execution_count": 2,
   "id": "ce31831c",
   "metadata": {},
   "outputs": [
    {
     "name": "stdout",
     "output_type": "stream",
     "text": [
      "python list exe. time  0.12962126731872559\n",
      "numpy ndarray exe. time  0.002972126007080078\n",
      "numpy is in this example  43.6123054708808 faster\n"
     ]
    }
   ],
   "source": [
    "t1 = pure_python_version()\n",
    "t2 = numpy_version()\n",
    "print('python list exe. time ', t1)\n",
    "print('numpy ndarray exe. time ', t2)\n",
    "print('numpy is in this example ', str(t1/t2) + ' faster')"
   ]
  },
  {
   "cell_type": "code",
   "execution_count": null,
   "id": "acd340d9",
   "metadata": {},
   "outputs": [],
   "source": []
  }
 ],
 "metadata": {
  "kernelspec": {
   "display_name": "Python 3 (ipykernel)",
   "language": "python",
   "name": "python3"
  },
  "language_info": {
   "codemirror_mode": {
    "name": "ipython",
    "version": 3
   },
   "file_extension": ".py",
   "mimetype": "text/x-python",
   "name": "python",
   "nbconvert_exporter": "python",
   "pygments_lexer": "ipython3",
   "version": "3.9.12"
  },
  "toc": {
   "base_numbering": 1,
   "nav_menu": {},
   "number_sections": true,
   "sideBar": true,
   "skip_h1_title": false,
   "title_cell": "Table of Contents",
   "title_sidebar": "Contents",
   "toc_cell": true,
   "toc_position": {},
   "toc_section_display": true,
   "toc_window_display": true
  }
 },
 "nbformat": 4,
 "nbformat_minor": 5
}
