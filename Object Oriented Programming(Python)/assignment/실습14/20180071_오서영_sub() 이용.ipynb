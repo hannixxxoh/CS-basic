{
 "cells": [
  {
   "cell_type": "code",
   "execution_count": 9,
   "id": "521905b6",
   "metadata": {},
   "outputs": [
    {
     "data": {
      "text/plain": [
       "'Please, square the following numbers 9 49 121 169 289 361'"
      ]
     },
     "execution_count": 9,
     "metadata": {},
     "output_type": "execute_result"
    }
   ],
   "source": [
    "import re\n",
    "\n",
    "def square(match):\n",
    "    value = int(match.group())\n",
    "    return str(value*value)\n",
    "\n",
    "p = re.compile(r'\\d+')\n",
    "p.sub(square, 'Please, square the following numbers 3 7 11 13 17 19')"
   ]
  },
  {
   "cell_type": "code",
   "execution_count": null,
   "id": "153d23f1",
   "metadata": {},
   "outputs": [],
   "source": []
  }
 ],
 "metadata": {
  "kernelspec": {
   "display_name": "Python 3 (ipykernel)",
   "language": "python",
   "name": "python3"
  },
  "language_info": {
   "codemirror_mode": {
    "name": "ipython",
    "version": 3
   },
   "file_extension": ".py",
   "mimetype": "text/x-python",
   "name": "python",
   "nbconvert_exporter": "python",
   "pygments_lexer": "ipython3",
   "version": "3.9.12"
  },
  "toc": {
   "base_numbering": 1,
   "nav_menu": {},
   "number_sections": true,
   "sideBar": true,
   "skip_h1_title": false,
   "title_cell": "Table of Contents",
   "title_sidebar": "Contents",
   "toc_cell": true,
   "toc_position": {},
   "toc_section_display": true,
   "toc_window_display": true
  }
 },
 "nbformat": 4,
 "nbformat_minor": 5
}
