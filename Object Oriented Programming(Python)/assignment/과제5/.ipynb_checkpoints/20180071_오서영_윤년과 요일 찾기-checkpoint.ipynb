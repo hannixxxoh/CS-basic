{
 "cells": [
  {
   "cell_type": "markdown",
   "id": "0c45065d",
   "metadata": {
    "toc": true
   },
   "source": [
    "<h1>Table of Contents<span class=\"tocSkip\"></span></h1>\n",
    "<div class=\"toc\"><ul class=\"toc-item\"></ul></div>"
   ]
  },
  {
   "cell_type": "code",
   "execution_count": 19,
   "id": "32acd867",
   "metadata": {},
   "outputs": [],
   "source": [
    "def input_date():\n",
    "    year = int(input(\"__년도를 입력하시오:\"))\n",
    "    month = int(input(\"__월을 입력하시오:\"))\n",
    "    day = int(input(\"__일을 입력하시오:\"))\n",
    "    return year, month, day"
   ]
  },
  {
   "cell_type": "code",
   "execution_count": 38,
   "id": "a915807f",
   "metadata": {},
   "outputs": [],
   "source": [
    "from datetime import datetime\n",
    "def get_day_name(year, month, day):\n",
    "    if not (is_leap(year)) and month == 2 and day == 29:\n",
    "        return 0\n",
    "    \n",
    "    days= 0\n",
    "    for i in range(year):\n",
    "        if is_leap(i): \n",
    "            days += 366\n",
    "        else:\n",
    "            days += 365\n",
    "            \n",
    "\n",
    "\n",
    "    return {0: '일요일', 1: \"월요일\", 2: \"화요일\", 3: \"수요일\",\n",
    "\n",
    "            4: \"목요일\", 5: \"금요일\", 6: \"토요일\"}[count]"
   ]
  },
  {
   "cell_type": "code",
   "execution_count": 39,
   "id": "6958346b",
   "metadata": {},
   "outputs": [],
   "source": [
    "def is_leap(year):\n",
    "    if year % 400 == 0:\n",
    "        return 1\n",
    "    elif year % 100 == 0:\n",
    "        return 0\n",
    "    elif year % 4 == 0:\n",
    "        return 1"
   ]
  },
  {
   "cell_type": "code",
   "execution_count": 45,
   "id": "46907245",
   "metadata": {},
   "outputs": [
    {
     "name": "stdout",
     "output_type": "stream",
     "text": [
      "__년도를 입력하시오:1\n",
      "__월을 입력하시오:1\n",
      "__일을 입력하시오:1\n",
      "월요일\n"
     ]
    }
   ],
   "source": [
    "if __name__ == \"__main__\":\n",
    "    year, month, day = input_date()\n",
    "    day_name = get_day_name(year,month,day)\n",
    "    if day_name == False:\n",
    "        print(\"입력하신 날짜는 존재하지 않습니다.\")\n",
    "    else:\n",
    "        print(day_name)\n",
    "        if is_leap(year) == True:\n",
    "            print(\"입력하신 %s은 윤년입니다\" % year)"
   ]
  },
  {
   "cell_type": "code",
   "execution_count": null,
   "id": "e2e9fb3a",
   "metadata": {},
   "outputs": [],
   "source": []
  }
 ],
 "metadata": {
  "kernelspec": {
   "display_name": "Python 3 (ipykernel)",
   "language": "python",
   "name": "python3"
  },
  "language_info": {
   "codemirror_mode": {
    "name": "ipython",
    "version": 3
   },
   "file_extension": ".py",
   "mimetype": "text/x-python",
   "name": "python",
   "nbconvert_exporter": "python",
   "pygments_lexer": "ipython3",
   "version": "3.8.8"
  },
  "toc": {
   "base_numbering": 1,
   "nav_menu": {},
   "number_sections": true,
   "sideBar": true,
   "skip_h1_title": false,
   "title_cell": "Table of Contents",
   "title_sidebar": "Contents",
   "toc_cell": true,
   "toc_position": {},
   "toc_section_display": true,
   "toc_window_display": true
  }
 },
 "nbformat": 4,
 "nbformat_minor": 5
}
