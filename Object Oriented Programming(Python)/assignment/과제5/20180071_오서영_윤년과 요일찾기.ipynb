{
 "cells": [
  {
   "cell_type": "markdown",
   "id": "355ef37a",
   "metadata": {
    "toc": true
   },
   "source": [
    "<h1>Table of Contents<span class=\"tocSkip\"></span></h1>\n",
    "<div class=\"toc\"><ul class=\"toc-item\"></ul></div>"
   ]
  },
  {
   "cell_type": "code",
   "execution_count": 88,
   "id": "6ebe245d",
   "metadata": {},
   "outputs": [],
   "source": [
    "def input_date():\n",
    "    year = int(input(\"__년도를 입력하시오:\"))\n",
    "    month = int(input(\"__월을 입력하시오:\"))\n",
    "    day = int(input(\"__일을 입력하시오:\"))\n",
    "    return year, month, day"
   ]
  },
  {
   "cell_type": "code",
   "execution_count": 89,
   "id": "6b5cfce4",
   "metadata": {},
   "outputs": [],
   "source": [
    "def get_day_name(year, month, day):\n",
    "    # 에러 메시지\n",
    "    if not (is_leap(year)) and month == 2 and day == 29:\n",
    "        return 0\n",
    "    \n",
    "    # 연도별 일수\n",
    "    totaldays= 0\n",
    "    for i in range(1, year):\n",
    "        if is_leap(i): \n",
    "            totaldays += 366\n",
    "        else:\n",
    "            totaldays += 365\n",
    "    \n",
    "    #월별 일수\n",
    "    calender = {0: 0, 1: 31, 2: 28, 3: 31, 4: 30, 5: 31, 6: 30,\n",
    "               7: 31, 8: 31, 9: 30, 10: 31, 11: 30, 12: 31}\n",
    "    leap_calender = {0: 0, 1: 31, 2: 29, 3: 31, 4: 30, 5: 31, 6: 30,\n",
    "               7: 31, 8: 31, 9: 30, 10: 31, 11: 30, 12: 31}\n",
    "\n",
    "    if is_leap(year):\n",
    "        for i in range(month):\n",
    "            totaldays += leap_calender[i]\n",
    "    else:\n",
    "        for i in range(month):\n",
    "            totaldays += calender[i]\n",
    "\n",
    "    # 일수 추가\n",
    "    totaldays += day\n",
    "    \n",
    "    count = totaldays % 7\n",
    "    count_calender = {0: '일요일', 1: \"월요일\", 2: \"화요일\", 3: \"수요일\", 4: \"목요일\", 5: \"금요일\", 6: \"토요일\"}\n",
    "    return count_calender[count]"
   ]
  },
  {
   "cell_type": "code",
   "execution_count": 90,
   "id": "a8ba533a",
   "metadata": {},
   "outputs": [],
   "source": [
    "def is_leap(year):\n",
    "    if year % 400 == 0:\n",
    "        return 1\n",
    "    elif year % 100 == 0:\n",
    "        return 0\n",
    "    elif year % 4 == 0:\n",
    "        return 1\n",
    "    else:\n",
    "        return 0"
   ]
  },
  {
   "cell_type": "code",
   "execution_count": 95,
   "id": "f091b852",
   "metadata": {},
   "outputs": [
    {
     "name": "stdout",
     "output_type": "stream",
     "text": [
      "__년도를 입력하시오:1988\n",
      "__월을 입력하시오:12\n",
      "__일을 입력하시오:22\n",
      "목요일\n",
      "입력하신 1988은 윤년입니다\n"
     ]
    }
   ],
   "source": [
    "if __name__ == \"__main__\":\n",
    "    year, month, day = input_date()\n",
    "    day_name = get_day_name(year,month,day)\n",
    "    if day_name == False:\n",
    "        print(\"입력하신 날짜는 존재하지 않습니다.\")\n",
    "    else:\n",
    "        print(day_name)\n",
    "        if is_leap(year) == True:\n",
    "            print(\"입력하신 %s은 윤년입니다\" % year)"
   ]
  }
 ],
 "metadata": {
  "kernelspec": {
   "display_name": "Python 3 (ipykernel)",
   "language": "python",
   "name": "python3"
  },
  "language_info": {
   "codemirror_mode": {
    "name": "ipython",
    "version": 3
   },
   "file_extension": ".py",
   "mimetype": "text/x-python",
   "name": "python",
   "nbconvert_exporter": "python",
   "pygments_lexer": "ipython3",
   "version": "3.8.8"
  },
  "toc": {
   "base_numbering": 1,
   "nav_menu": {},
   "number_sections": true,
   "sideBar": true,
   "skip_h1_title": false,
   "title_cell": "Table of Contents",
   "title_sidebar": "Contents",
   "toc_cell": true,
   "toc_position": {
    "height": "calc(100% - 180px)",
    "left": "10px",
    "top": "150px",
    "width": "426.667px"
   },
   "toc_section_display": true,
   "toc_window_display": true
  }
 },
 "nbformat": 4,
 "nbformat_minor": 5
}
