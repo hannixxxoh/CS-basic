{
 "cells": [
  {
   "cell_type": "markdown",
   "id": "45fec7c4",
   "metadata": {
    "toc": true
   },
   "source": [
    "<h1>Table of Contents<span class=\"tocSkip\"></span></h1>\n",
    "<div class=\"toc\"><ul class=\"toc-item\"></ul></div>"
   ]
  },
  {
   "cell_type": "code",
   "execution_count": 1,
   "id": "296f6aae",
   "metadata": {},
   "outputs": [],
   "source": [
    "# 실습2-1\n",
    "\n",
    "f = open(\"information.txt\", \"w\")\n",
    "text = '''3\n",
    "3.14\n",
    "\"3.14\"'''\n",
    "f.write(text)\n",
    "f.close()"
   ]
  },
  {
   "cell_type": "code",
   "execution_count": 2,
   "id": "a7ced04b",
   "metadata": {
    "scrolled": true
   },
   "outputs": [
    {
     "name": "stdout",
     "output_type": "stream",
     "text": [
      "3\n",
      "3.14\n",
      "\"3.14\"\n"
     ]
    }
   ],
   "source": [
    "# 실습2-2\n",
    "\n",
    "f = open(\"information.txt\", \"r\")\n",
    "print(f.read())\n",
    "f.close()"
   ]
  },
  {
   "cell_type": "code",
   "execution_count": 3,
   "id": "32c7397d",
   "metadata": {},
   "outputs": [],
   "source": [
    "# 실습2-3\n",
    "import pickle\n",
    "\n",
    "f = open('information.dat', 'wb')\n",
    "pickle.dump(3, f)\n",
    "pickle.dump(3.14, f)\n",
    "pickle.dump(\"\\\"3.14\\\"\", f)\n",
    "f.close()"
   ]
  },
  {
   "cell_type": "code",
   "execution_count": 4,
   "id": "3244dd92",
   "metadata": {},
   "outputs": [
    {
     "name": "stdout",
     "output_type": "stream",
     "text": [
      "3\n",
      "3.14\n",
      "\"3.14\"\n"
     ]
    }
   ],
   "source": [
    "f = open(\"information.dat\", \"rb\")\n",
    "while True:\n",
    "    try:\n",
    "        print(pickle.load(f))\n",
    "    except:\n",
    "        break\n",
    "f.close()"
   ]
  },
  {
   "cell_type": "code",
   "execution_count": null,
   "id": "60ac973c",
   "metadata": {},
   "outputs": [],
   "source": []
  }
 ],
 "metadata": {
  "kernelspec": {
   "display_name": "insight001",
   "language": "python",
   "name": "insight001"
  },
  "language_info": {
   "codemirror_mode": {
    "name": "ipython",
    "version": 3
   },
   "file_extension": ".py",
   "mimetype": "text/x-python",
   "name": "python",
   "nbconvert_exporter": "python",
   "pygments_lexer": "ipython3",
   "version": "3.9.7"
  },
  "toc": {
   "base_numbering": 1,
   "nav_menu": {},
   "number_sections": true,
   "sideBar": true,
   "skip_h1_title": false,
   "title_cell": "Table of Contents",
   "title_sidebar": "Contents",
   "toc_cell": true,
   "toc_position": {},
   "toc_section_display": true,
   "toc_window_display": true
  }
 },
 "nbformat": 4,
 "nbformat_minor": 5
}
