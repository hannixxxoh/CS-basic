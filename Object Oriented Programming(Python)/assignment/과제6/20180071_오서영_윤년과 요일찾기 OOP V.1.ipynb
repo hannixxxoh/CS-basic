{
 "cells": [
  {
   "cell_type": "markdown",
   "id": "5ded13d2",
   "metadata": {
    "toc": true
   },
   "source": [
    "<h1>Table of Contents<span class=\"tocSkip\"></span></h1>\n",
    "<div class=\"toc\"><ul class=\"toc-item\"></ul></div>"
   ]
  },
  {
   "cell_type": "code",
   "execution_count": 1,
   "id": "4b628861",
   "metadata": {},
   "outputs": [],
   "source": [
    "def input_date():\n",
    "    year = int(input(\"__년도를 입력하시오:\"))\n",
    "    month = int(input(\"__월을 입력하시오:\"))\n",
    "    day = int(input(\"__일을 입력하시오:\"))\n",
    "    return year, month, day"
   ]
  },
  {
   "cell_type": "code",
   "execution_count": 20,
   "id": "78fdd917",
   "metadata": {},
   "outputs": [],
   "source": [
    "def is_leap(year):\n",
    "    if year % 400 == 0:\n",
    "        return 1\n",
    "    elif year % 100 == 0:\n",
    "        return 0\n",
    "    elif year % 4 == 0:\n",
    "        return 1\n",
    "    else:\n",
    "        return 0"
   ]
  },
  {
   "cell_type": "code",
   "execution_count": 34,
   "id": "b025aea2",
   "metadata": {},
   "outputs": [],
   "source": [
    "class DayName:\n",
    "    def __init__(self, year, month, day):\n",
    "        self.year = year\n",
    "        self.month = month\n",
    "        self.day = day\n",
    "    \n",
    "    def get_name(self):\n",
    "        if not (is_leap(self.year)) and self.month == 2 and self.day == 29:\n",
    "            return \"입력하신 날짜는 존재하지 않습니다.\"\n",
    "    \n",
    "        # year별 일수\n",
    "        totaldays= 0\n",
    "        for i in range(1, self.year):\n",
    "            if is_leap(i): \n",
    "                totaldays += 366\n",
    "            else:\n",
    "                totaldays += 365\n",
    "    \n",
    "        # month별 일수\n",
    "        calender = {0: 0, 1: 31, 2: 28, 3: 31, 4: 30, 5: 31, 6: 30,\n",
    "               7: 31, 8: 31, 9: 30, 10: 31, 11: 30, 12: 31}\n",
    "        leap_calender = {0: 0, 1: 31, 2: 29, 3: 31, 4: 30, 5: 31, 6: 30,\n",
    "               7: 31, 8: 31, 9: 30, 10: 31, 11: 30, 12: 31}\n",
    "\n",
    "        if is_leap(self.year):\n",
    "            for i in range(self.month):\n",
    "                totaldays += leap_calender[i]\n",
    "        else:\n",
    "            for i in range(self.month):\n",
    "                totaldays += calender[i]\n",
    "\n",
    "        # day수 추가\n",
    "        totaldays += self.day\n",
    "        \n",
    "        # 요일 계산\n",
    "        count = totaldays % 7\n",
    "        count_calender = {0: '일요일', 1: \"월요일\", 2: \"화요일\", 3: \"수요일\",\n",
    "                          4: \"목요일\", 5: \"금요일\", 6: \"토요일\"}\n",
    "        \n",
    "        # 출력값\n",
    "        if is_leap(self.year):\n",
    "            print(count_calender[count])\n",
    "            return f\"입력하신 {self.year}은 윤년입니다\"\n",
    "        else:\n",
    "            return count_calender[count]"
   ]
  },
  {
   "cell_type": "code",
   "execution_count": 35,
   "id": "7375d707",
   "metadata": {},
   "outputs": [
    {
     "name": "stdout",
     "output_type": "stream",
     "text": [
      "__년도를 입력하시오:2022\n",
      "__월을 입력하시오:04\n",
      "__일을 입력하시오:10\n",
      "일요일\n"
     ]
    }
   ],
   "source": [
    "if __name__ ==\"__main__\":\n",
    "    year, month, day = input_date()\n",
    "    day_name = DayName(year, month, day)\n",
    "    print(day_name.get_name()) "
   ]
  },
  {
   "cell_type": "code",
   "execution_count": null,
   "id": "7900a458",
   "metadata": {},
   "outputs": [],
   "source": []
  }
 ],
 "metadata": {
  "kernelspec": {
   "display_name": "Python 3 (ipykernel)",
   "language": "python",
   "name": "python3"
  },
  "language_info": {
   "codemirror_mode": {
    "name": "ipython",
    "version": 3
   },
   "file_extension": ".py",
   "mimetype": "text/x-python",
   "name": "python",
   "nbconvert_exporter": "python",
   "pygments_lexer": "ipython3",
   "version": "3.9.7"
  },
  "toc": {
   "base_numbering": 1,
   "nav_menu": {},
   "number_sections": true,
   "sideBar": true,
   "skip_h1_title": false,
   "title_cell": "Table of Contents",
   "title_sidebar": "Contents",
   "toc_cell": true,
   "toc_position": {},
   "toc_section_display": true,
   "toc_window_display": true
  }
 },
 "nbformat": 4,
 "nbformat_minor": 5
}
