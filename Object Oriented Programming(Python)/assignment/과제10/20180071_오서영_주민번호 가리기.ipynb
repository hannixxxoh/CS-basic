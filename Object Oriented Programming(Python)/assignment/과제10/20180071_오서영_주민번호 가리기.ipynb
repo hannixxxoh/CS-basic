{
 "cells": [
  {
   "cell_type": "markdown",
   "id": "da328e45",
   "metadata": {
    "toc": true
   },
   "source": [
    "<h1>Table of Contents<span class=\"tocSkip\"></span></h1>\n",
    "<div class=\"toc\"><ul class=\"toc-item\"></ul></div>"
   ]
  },
  {
   "cell_type": "code",
   "execution_count": 1,
   "id": "61026a58",
   "metadata": {},
   "outputs": [
    {
     "name": "stdout",
     "output_type": "stream",
     "text": [
      "park sunje 남 890901-*******\n",
      "kim sunhee 여 990103-*******\n"
     ]
    }
   ],
   "source": [
    "data = '''\n",
    "park sunje 890901-1074422\n",
    "kim sunhee 990103-2079912\n",
    "'''\n",
    "\n",
    "people = data.strip().split(\"\\n\")\n",
    "temp = []\n",
    "for person in people:\n",
    "    lst = person.split()\n",
    "    if lst[2][-7] == \"1\":\n",
    "        lst.insert(2, \"남\")\n",
    "    else:\n",
    "        lst.insert(2, \"여\")\n",
    "    lst[3] = lst[3][:7] + \"*******\"\n",
    "    temp.append(\" \".join(lst))\n",
    "\n",
    "print(\"\\n\".join(temp))"
   ]
  },
  {
   "cell_type": "code",
   "execution_count": 2,
   "id": "7293d5cb",
   "metadata": {},
   "outputs": [
    {
     "name": "stdout",
     "output_type": "stream",
     "text": [
      "홍길동 남 560922-******* 02-705-8491\n",
      "홍길동 남 560922-******* 042-7052-8491\n",
      "김바한솔 남 911212-******* 042-705-8491\n",
      "김연찬 남 920922-******* 031-7054\n"
     ]
    }
   ],
   "source": [
    "f = open(\"Testdata.txt\", \"r\", encoding=\"utf-8\")\n",
    "data = f.read()\n",
    "\n",
    "people = data.strip().split(\"\\n\")\n",
    "temp = []\n",
    "for person in people:\n",
    "    lst = person.split()\n",
    "    if lst[1][-7] == \"1\":\n",
    "        lst.insert(1, \"남\")\n",
    "    else:\n",
    "        lst.insert(1, \"여\")\n",
    "    lst[2] = lst[2][:7] + \"*******\"\n",
    "    temp.append(\" \".join(lst))\n",
    "\n",
    "print(\"\\n\".join(temp))"
   ]
  },
  {
   "cell_type": "code",
   "execution_count": null,
   "id": "5fb3882e",
   "metadata": {},
   "outputs": [],
   "source": []
  }
 ],
 "metadata": {
  "kernelspec": {
   "display_name": "Python 3 (ipykernel)",
   "language": "python",
   "name": "python3"
  },
  "language_info": {
   "codemirror_mode": {
    "name": "ipython",
    "version": 3
   },
   "file_extension": ".py",
   "mimetype": "text/x-python",
   "name": "python",
   "nbconvert_exporter": "python",
   "pygments_lexer": "ipython3",
   "version": "3.9.7"
  },
  "toc": {
   "base_numbering": 1,
   "nav_menu": {},
   "number_sections": true,
   "sideBar": true,
   "skip_h1_title": false,
   "title_cell": "Table of Contents",
   "title_sidebar": "Contents",
   "toc_cell": true,
   "toc_position": {
    "height": "calc(100% - 180px)",
    "left": "10px",
    "top": "150px",
    "width": "165px"
   },
   "toc_section_display": true,
   "toc_window_display": true
  }
 },
 "nbformat": 4,
 "nbformat_minor": 5
}
