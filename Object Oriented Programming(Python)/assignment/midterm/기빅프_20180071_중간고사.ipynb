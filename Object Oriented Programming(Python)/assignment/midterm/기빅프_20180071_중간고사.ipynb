{
 "cells": [
  {
   "cell_type": "markdown",
   "id": "0e07d534",
   "metadata": {
    "toc": true
   },
   "source": [
    "<h1>Table of Contents<span class=\"tocSkip\"></span></h1>\n",
    "<div class=\"toc\"><ul class=\"toc-item\"></ul></div>"
   ]
  },
  {
   "cell_type": "code",
   "execution_count": 1,
   "id": "3883c4d5",
   "metadata": {},
   "outputs": [
    {
     "name": "stdout",
     "output_type": "stream",
     "text": [
      "Overwriting Std.py\n"
     ]
    }
   ],
   "source": [
    "%%writefile Std.py\n",
    "\n",
    "class Student():\n",
    "    def __init__(self, num, name, kor, eng, math):\n",
    "        self._num = num\n",
    "        self._name = name\n",
    "        self._kor = kor\n",
    "        self._eng = eng\n",
    "        self._math = math\n",
    "        self._total = kor + eng + math\n",
    "        self._avg = (kor + eng + math) / 3\n",
    "        self._order = 0\n",
    "    \n",
    "    @property\n",
    "    def num(self):\n",
    "        return self._num\n",
    "    \n",
    "    @property\n",
    "    def name(self):\n",
    "        return self._name\n",
    "    \n",
    "    @property\n",
    "    def kor(self):\n",
    "        return self._kor\n",
    "    \n",
    "    @property\n",
    "    def eng(self):\n",
    "        return self._eng\n",
    "    \n",
    "    @property\n",
    "    def math(self):\n",
    "        return self._math\n",
    "    \n",
    "    @property\n",
    "    def math(self):\n",
    "        return self._total\n",
    "    \n",
    "    @property\n",
    "    def avg(self):\n",
    "        return self._avg\n",
    "    \n",
    "    @property\n",
    "    def order(self):\n",
    "        return self._order"
   ]
  },
  {
   "cell_type": "code",
   "execution_count": 2,
   "id": "67b3b1d9",
   "metadata": {},
   "outputs": [
    {
     "name": "stdout",
     "output_type": "stream",
     "text": [
      "Overwriting Grade.py\n"
     ]
    }
   ],
   "source": [
    "%%writefile Grade.py\n",
    "\n",
    "class StudentGradingSystem():\n",
    "    def __init__(self, one, two, three, four, five):\n",
    "        pass\n",
    "    \n",
    "    def register_student(self):\n",
    "        self.one = one\n",
    "        self.two = two\n",
    "        self.three = three\n",
    "        self.four = four\n",
    "        self.five = five\n",
    "\n",
    "    def process(self):\n",
    "        pass\n",
    "\n",
    "    def print_students(self):\n",
    "        print(\"번호 : {}, 이름: {}, 국어 : {}, 영어 : {}, 수학 : {}, 총점 : {}, 평균 : {}, 등수 : {}\".format(self.one.num, self.one.name, self.one.kor, self.one.eng, self.one.math, self.one.total, self.one.avg, self.one.order))\n",
    "    \n",
    "    def print_class_information(self):\n",
    "        pass\n",
    "        "
   ]
  },
  {
   "cell_type": "code",
   "execution_count": 3,
   "id": "577f0b10",
   "metadata": {},
   "outputs": [
    {
     "ename": "IndentationError",
     "evalue": "expected an indented block (Grade.py, line 21)",
     "output_type": "error",
     "traceback": [
      "Traceback \u001b[1;36m(most recent call last)\u001b[0m:\n",
      "  File \u001b[0;32m\"C:\\Users\\LOVE.DESKTOP-5CS2DDB\\anaconda3\\lib\\site-packages\\IPython\\core\\interactiveshell.py\"\u001b[0m, line \u001b[0;32m3444\u001b[0m, in \u001b[0;35mrun_code\u001b[0m\n    exec(code_obj, self.user_global_ns, self.user_ns)\n",
      "\u001b[1;36m  File \u001b[1;32m\"C:\\Users\\LOVE~1.DES\\AppData\\Local\\Temp/ipykernel_17996/3943357195.py\"\u001b[1;36m, line \u001b[1;32m2\u001b[1;36m, in \u001b[1;35m<module>\u001b[1;36m\u001b[0m\n\u001b[1;33m    from Grade import *\u001b[0m\n",
      "\u001b[1;36m  File \u001b[1;32m\"C:\\Users\\LOVE.DESKTOP-5CS2DDB\\Desktop\\7학기\\기빅프\\과제\\중간고사\\Grade.py\"\u001b[1;36m, line \u001b[1;32m21\u001b[0m\n\u001b[1;33m    \u001b[0m\n\u001b[1;37m    ^\u001b[0m\n\u001b[1;31mIndentationError\u001b[0m\u001b[1;31m:\u001b[0m expected an indented block\n"
     ]
    }
   ],
   "source": [
    "from Std import *\n",
    "from Grade import *\n",
    "\n",
    "one = Student(1, \"서강일\", 90, 80, 85)\n",
    "two = Student(2, \"서강이\", 90, 85, 95)\n",
    "three = Student(3, \"서강삼\", 80, 80, 80)\n",
    "four = Student(4, \"서강사\", 90, 92, 83)\n",
    "five = Student(5, \"서강오\", 85, 90, 90)\n",
    "\n",
    "calculator = StudentGradingSystem(one, two, three, four, five)"
   ]
  },
  {
   "cell_type": "code",
   "execution_count": null,
   "id": "ba573946",
   "metadata": {},
   "outputs": [],
   "source": []
  }
 ],
 "metadata": {
  "kernelspec": {
   "display_name": "Python 3 (ipykernel)",
   "language": "python",
   "name": "python3"
  },
  "language_info": {
   "codemirror_mode": {
    "name": "ipython",
    "version": 3
   },
   "file_extension": ".py",
   "mimetype": "text/x-python",
   "name": "python",
   "nbconvert_exporter": "python",
   "pygments_lexer": "ipython3",
   "version": "3.9.7"
  },
  "toc": {
   "base_numbering": 1,
   "nav_menu": {},
   "number_sections": true,
   "sideBar": true,
   "skip_h1_title": false,
   "title_cell": "Table of Contents",
   "title_sidebar": "Contents",
   "toc_cell": true,
   "toc_position": {},
   "toc_section_display": true,
   "toc_window_display": true
  }
 },
 "nbformat": 4,
 "nbformat_minor": 5
}
