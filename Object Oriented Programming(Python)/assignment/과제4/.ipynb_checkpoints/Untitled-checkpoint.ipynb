{
 "cells": [
  {
   "cell_type": "code",
   "execution_count": 1,
   "id": "7adeb46a",
   "metadata": {},
   "outputs": [
    {
     "name": "stdout",
     "output_type": "stream",
     "text": [
      "Overwriting chan.py\n"
     ]
    }
   ],
   "source": [
    "%%writefile chan.py\n",
    "\n",
    "def count(lower):\n",
    "    dct = {}\n",
    "    for i in lower:\n",
    "        if i not in dct.keys():\n",
    "            dct[i] = 1\n",
    "        else :\n",
    "            dct[i] += 1\n",
    "    return dct\n",
    "\n",
    "def trans(before):\n",
    "    after = \"\"\n",
    "    for i in before:\n",
    "        if i.isupper():\n",
    "            after += i.lower()\n",
    "        else:\n",
    "            after += i.upper()\n",
    "    return after\n",
    "\n",
    "while (1):\n",
    "    before = input(\"Input:\")\n",
    "    if before == \"STOP\":\n",
    "        print(\"Bye\")\n",
    "        break\n",
    "        \n",
    "    lower = before.lower()\n",
    "    dct = count(lower)\n",
    "    \n",
    "    for i in dct.keys():\n",
    "        print(\"({} : {})   \".format(i, dct[i]), end=\"\")\n",
    "    \n",
    "    print(\"\")\n",
    "    print(trans(before))\n",
    "    \n",
    "    \n",
    "    "
   ]
  },
  {
   "cell_type": "code",
   "execution_count": 2,
   "id": "bb57b875",
   "metadata": {},
   "outputs": [
    {
     "name": "stdout",
     "output_type": "stream",
     "text": [
      "Input:Sogang\n",
      "(s : 1)   (o : 1)   (g : 2)   (a : 1)   (n : 1)   \n",
      "sOGANG\n",
      "Input:SOGANG\n",
      "(s : 1)   (o : 1)   (g : 2)   (a : 1)   (n : 1)   \n",
      "sogang\n",
      "Input:Univ\n",
      "(u : 1)   (n : 1)   (i : 1)   (v : 1)   \n",
      "uNIV\n",
      "Input:Tel\n",
      "(t : 1)   (e : 1)   (l : 1)   \n",
      "tEL\n",
      "Input:STOP\n",
      "Bye\n"
     ]
    }
   ],
   "source": [
    "%run chan.py"
   ]
  },
  {
   "cell_type": "code",
   "execution_count": null,
   "id": "d0c902ba",
   "metadata": {},
   "outputs": [],
   "source": []
  },
  {
   "cell_type": "code",
   "execution_count": null,
   "id": "3aa80d98",
   "metadata": {},
   "outputs": [],
   "source": []
  }
 ],
 "metadata": {
  "kernelspec": {
   "display_name": "Python 3 (ipykernel)",
   "language": "python",
   "name": "python3"
  },
  "language_info": {
   "codemirror_mode": {
    "name": "ipython",
    "version": 3
   },
   "file_extension": ".py",
   "mimetype": "text/x-python",
   "name": "python",
   "nbconvert_exporter": "python",
   "pygments_lexer": "ipython3",
   "version": "3.9.7"
  }
 },
 "nbformat": 4,
 "nbformat_minor": 5
}
