{
 "cells": [
  {
   "cell_type": "code",
   "execution_count": 1,
   "id": "cd5df265",
   "metadata": {},
   "outputs": [
    {
     "name": "stdout",
     "output_type": "stream",
     "text": [
      "점수를 입력하시오: 101\n",
      "점수는 0점에서 100점 사이의 값이어야 합니다.\n"
     ]
    }
   ],
   "source": [
    "#실습1\n",
    "\n",
    "class ScoreError(Exception):\n",
    "    def __init__(self,msg):\n",
    "        self._message = msg\n",
    "\n",
    "def input_score():\n",
    "    score = int(input(\"점수를 입력하시오: \"))\n",
    "    if score < 0 or score > 100:\n",
    "        raise ScoreError(\"점수는 0점에서 100점 사이의 값이어야 합니다.\")\n",
    "    else:\n",
    "        return score\n",
    "\n",
    "if __name__ == \"__main__\":\n",
    "    try:\n",
    "        score = input_score()\n",
    "    except ScoreError as e:\n",
    "        print(e.args[0])\n",
    "    else:\n",
    "        print(\"점수는 {}입니다.\".format(score))"
   ]
  },
  {
   "cell_type": "code",
   "execution_count": 4,
   "id": "044d01fe",
   "metadata": {},
   "outputs": [
    {
     "name": "stdout",
     "output_type": "stream",
     "text": [
      "Overwriting list_index.py\n"
     ]
    }
   ],
   "source": [
    "%%writefile list_index.py\n",
    "\n",
    "# 실습2\n",
    "\n",
    "num = [0, 1, 2, 3, 4, 5, 6, 7, 8, 9, 10]\n",
    "while(1):\n",
    "    try:    \n",
    "        idx = int(input())\n",
    "        print(num[idx])\n",
    "    except IndexError:\n",
    "        print(-1)\n",
    "    except KeyboardInterrupt:\n",
    "        print(\"프로그램을 종료합니다.\")\n",
    "        break\n",
    "    except ValueError:\n",
    "        print(\"프로그램을 종료합니다.\")\n",
    "        break\n"
   ]
  },
  {
   "cell_type": "code",
   "execution_count": 5,
   "id": "0be66082",
   "metadata": {},
   "outputs": [
    {
     "name": "stdout",
     "output_type": "stream",
     "text": [
      "-1\n",
      "10\n",
      "1\n",
      "1\n",
      "가\n",
      "프로그램을 종료합니다.\n"
     ]
    }
   ],
   "source": [
    "%run list_index.py"
   ]
  }
 ],
 "metadata": {
  "kernelspec": {
   "display_name": "Python 3 (ipykernel)",
   "language": "python",
   "name": "python3"
  },
  "language_info": {
   "codemirror_mode": {
    "name": "ipython",
    "version": 3
   },
   "file_extension": ".py",
   "mimetype": "text/x-python",
   "name": "python",
   "nbconvert_exporter": "python",
   "pygments_lexer": "ipython3",
   "version": "3.9.7"
  },
  "toc": {
   "base_numbering": 1,
   "nav_menu": {},
   "number_sections": true,
   "sideBar": true,
   "skip_h1_title": false,
   "title_cell": "Table of Contents",
   "title_sidebar": "Contents",
   "toc_cell": false,
   "toc_position": {},
   "toc_section_display": true,
   "toc_window_display": false
  }
 },
 "nbformat": 4,
 "nbformat_minor": 5
}
